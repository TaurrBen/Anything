{
 "cells": [
  {
   "cell_type": "code",
   "execution_count": 112,
   "metadata": {
    "pycharm": {
     "is_executing": true,
     "name": "#%%\n"
    }
   },
   "outputs": [
    {
     "name": "stdout",
     "output_type": "stream",
     "text": [
      "E:\\Code\\MyGitSpace\\MachineLearning\\MachineLearning(3.8.16)\\23\\E\n",
      "./数据\\~$表1-患者列表及临床信息.xlsx\n",
      "./数据\\~$表2-患者影像信息血肿及水肿的体积及位置.xlsx\n",
      "./数据\\~$表3-患者影像信息血肿及水肿的形状及灰度分布.xlsx\n",
      "./数据\\~$表4-答案文件.xlsx\n",
      "./数据\\~$附表1-检索表格-流水号vs时间.xlsx\n",
      "./数据\\表1-患者列表及临床信息.xlsx\n",
      "./数据\\表2-患者影像信息血肿及水肿的体积及位置.xlsx\n",
      "./数据\\表3-患者影像信息血肿及水肿的形状及灰度分布.xlsx\n",
      "./数据\\表4-答案文件.xlsx\n",
      "./数据\\附表1-检索表格-流水号vs时间.xlsx\n"
     ]
    }
   ],
   "source": [
    "import numpy as np\n",
    "import pandas as pd\n",
    "import os\n",
    "from IPython.display import clear_output\n",
    "import matplotlib.pyplot as plt\n",
    "%matplotlib inline\n",
    "import seaborn as sns\n",
    "import datetime as dt\n",
    "\n",
    "print(os.getcwd())\n",
    "for dirname, _, filenames in os.walk('./数据'):\n",
    "    for filename in filenames:\n",
    "        print(os.path.join(dirname, filename))"
   ]
  },
  {
   "cell_type": "code",
   "execution_count": 114,
   "metadata": {
    "pycharm": {
     "name": "#%%\n"
    }
   },
   "outputs": [],
   "source": [
    "table1 = pd.read_excel('./数据\\表1-患者列表及临床信息.xlsx')\n",
    "display(table1.head(5))\n",
    "table2 = pd.read_excel('./数据\\表2-患者影像信息血肿及水肿的体积及位置.xlsx')\n",
    "display(table2.head(5))\n",
    "table3_ED = pd.read_excel('./数据\\表3-患者影像信息血肿及水肿的形状及灰度分布.xlsx',sheet_name='ED')\n",
    "display(table3_ED.head(5))\n",
    "table3_Hemo = pd.read_excel('./数据\\表3-患者影像信息血肿及水肿的形状及灰度分布.xlsx',sheet_name='Hemo')\n",
    "display(table3_Hemo.head(5))\n",
    "table4 = pd.read_excel('./数据\\表4-答案文件.xlsx')\n",
    "display(table4.head(5))\n",
    "table5 = pd.read_excel('./数据\\附表1-检索表格-流水号vs时间.xlsx')\n",
    "display(table5.head(5))\n",
    "clear_output()"
   ]
  },
  {
   "cell_type": "code",
   "execution_count": 115,
   "metadata": {
    "pycharm": {
     "name": "#%%\n"
    }
   },
   "outputs": [],
   "source": [
    "Problem1a = pd.DataFrame()\n",
    "Problem1a['发病到首次影像检查时间间隔'] = table1[table1.index<100]['发病到首次影像检查时间间隔']\n",
    "Problem1a['resT'] = [pd.Timedelta(hours=i) for i in (48 - table1[table1.index<100]['发病到首次影像检查时间间隔'])]\n",
    "Problem1a = pd.concat([Problem1a,table5[table5.index<100]], axis=1)\n",
    "Problem1a = pd.concat([Problem1a,table2.iloc[range(0,100),range(2,9*23+1,23)]], axis=1)\n",
    "Problem1a['发病时间'] = [i - pd.Timedelta(hours=j) for i,j in zip(pd.to_datetime(Problem1a['入院首次检查时间点']),table1[table1.index<100]['发病到首次影像检查时间间隔'])]\n",
    "Problem1a['isExpansion_count'] = 0\n",
    "# display(Problem1a['resT'])\n",
    "for index in range(1,9):\n",
    "#     display((pd.to_datetime(Problem1a['随访{}时间点'.format(index)]) - pd.to_datetime(Problem1a['入院首次检查时间点'])))\n",
    "#     display((pd.to_datetime(Problem1a['随访{}时间点'.format(index)]) - pd.to_datetime(Problem1a['入院首次检查时间点'])) < Problem1a['resT'])\n",
    "#     display(abs(Problem1a['HM_volume.{}'.format(index)]-Problem1a['HM_volume']) >= 6000)\n",
    "#     display((abs(Problem1a['HM_volume.{}'.format(index)]-Problem1a['HM_volume'])/Problem1a['HM_volume']) >= 0.33)\n",
    "    Problem1a['deltaT{}'.format(index)] = (pd.to_datetime(Problem1a['随访{}时间点'.format(index)]) - pd.to_datetime(Problem1a['入院首次检查时间点'])) < Problem1a['resT']\n",
    "    Problem1a['deltaVolume{}'.format(index)] = (Problem1a['HM_volume.{}'.format(index)]-Problem1a['HM_volume']).fillna(0)\n",
    "    Problem1a['deltaRelativeVolume{}'.format(index)] = ((Problem1a['HM_volume.{}'.format(index)]-Problem1a['HM_volume'])/Problem1a['HM_volume']).fillna(0) \n",
    "    Problem1a['deltaV{}'.format(index)] = np.logical_or(Problem1a['deltaVolume{}'.format(index)]>=6000,Problem1a['deltaRelativeVolume{}'.format(index)]>=0.33)\n",
    "    Problem1a['isExpansion{}'.format(index)] = np.logical_and(Problem1a['deltaT{}'.format(index)],Problem1a['deltaV{}'.format(index)])\n",
    "    Problem1a['isExpansion_count'] = Problem1a['isExpansion_count'] + Problem1a['isExpansion{}'.format(index)]\n",
    "    if index > 1:\n",
    "        pass\n",
    "Problem1a['isExpansion'] = [int(i) for i in Problem1a['isExpansion_count']>=1]\n",
    "def calExpansionTime(Problem1a):\n",
    "    for row in range(0,100):\n",
    "        if Problem1a.loc[row,'isExpansion']==True:\n",
    "            for index in range(1,9):\n",
    "                if Problem1a.loc[row,'isExpansion{}'.format(index)]==True:\n",
    "                    Problem1a.loc[row,'isExpansion_time'] = (Problem1a.loc[row,'随访{}时间点'.format(index)]-Problem1a.loc[row,'发病时间'])*24\n",
    "                    break;\n",
    "calExpansionTime(Problem1a)\n",
    "Problem1a.to_excel('Problem1a.xlsx')\n",
    "# Problem1a['isExpansion1'] = sum(Problem1a['isExpansion{}'.format(index)])\n",
    "# display(Problem1a.loc[range(0,100),['deltaT{}'.format(index) for index in range(1,9)]].head(5))\n",
    "# display(Problem1a.loc[range(0,100),['deltaVolume{}'.format(index) for index in range(1,9)]])\n",
    "# display(Problem1a.loc[range(0,100),['deltaRelativeVolume{}'.format(index) for index in range(1,9)]])\n",
    "# display(Problem1a.loc[range(0,100),['deltaV{}'.format(index) for index in range(1,9)]].head(5))\n",
    "# display(Problem1a.loc[range(0,100),['isExpansion{}'.format(index) for index in range(1,9)]])\n",
    "# display(Problem1a['isExpansion'])\n",
    "# dt.datetime.strptime(Problem1a['随访{}时间点'.format(index)],\"%Y/%m/%d %H-%M\")"
   ]
  },
  {
   "cell_type": "code",
   "execution_count": 134,
   "metadata": {
    "pycharm": {
     "name": "#%%\n"
    }
   },
   "outputs": [],
   "source": [
    "Problem1b = table1\n",
    "Problem1b = pd.concat([Problem1b,table2.iloc[:,range(2,24)]],axis=1)\n",
    "def findRow(Problem1b,table,row):\n",
    "    for row1,num in enumerate(table['流水号']):\n",
    "        if num==Problem1b.loc[row,'入院首次影像检查流水号']:\n",
    "            return table.iloc[row1,range(2,33)]\n",
    "pdtemp = pd.DataFrame(columns=table3_ED.columns[2:])\n",
    "pdtemp1 = pd.DataFrame(columns=table3_Hemo.columns[2:])\n",
    "for row in range(0,160):\n",
    "    pdtemp.loc[row] = findRow(Problem1b,table3_ED,row)\n",
    "    pdtemp1.loc[row] = findRow(Problem1b,table3_Hemo,row)\n",
    "\n",
    "pdtemp.columns = pdtemp.columns + '_ED'\n",
    "pdtemp1.columns = pdtemp1.columns + '_Hemo'\n",
    "Problem1b = pd.concat([Problem1b,pdtemp,pdtemp1],axis=1)\n",
    "Problem1b['target'] = Problem1a['isExpansion']\n",
    "Problem1b['性别']=Problem1b['性别'].map({'男':1,'女':0}).astype(np.int8)\n",
    "Problem1b.to_excel('Problem1b.xlsx')\n",
    "display(Problem1b.head(5))\n",
    "clear_output()"
   ]
  },
  {
   "cell_type": "code",
   "execution_count": 135,
   "metadata": {},
   "outputs": [],
   "source": [
    "drop_columns = ['ID','90天mRS','数据集划分','入院首次影像检查流水号']\n",
    "display(Problem1b.drop(columns=drop_columns).head(5))\n",
    "clear_output()"
   ]
  },
  {
   "cell_type": "code",
   "execution_count": 144,
   "metadata": {},
   "outputs": [],
   "source": [
    "train_df = Problem1b.drop(columns=drop_columns).loc[range(0,100)]\n",
    "test1_df = Problem1b.drop(columns=drop_columns).loc[range(100,130)]\n",
    "test2_df = Problem1b.drop(columns=drop_columns).loc[range(130,160)]\n",
    "display(train_df)\n",
    "display(test1_df)\n",
    "display(test2_df)\n",
    "clear_output()"
   ]
  },
  {
   "cell_type": "code",
   "execution_count": 149,
   "metadata": {},
   "outputs": [],
   "source": [
    "def summary_df(train_df,test1_df,test2_df):\n",
    "    summary = pd.DataFrame(train_df.dtypes, columns=['dtypes'])\n",
    "    summary['train_missing#'] = train_df.isna().sum()\n",
    "    summary['train_missing%'] = (train_df.isna().sum())/len(train_df)\n",
    "    summary['train_uniques'] = train_df.nunique().values\n",
    "    summary['train_count'] = train_df.count().values\n",
    "    # summary['train_skew'] = train_df.skew().values\n",
    "    summary['test1_missing#'] = test1_df.isna().sum()\n",
    "    summary['test1_missing%'] = (test1_df.isna().sum())/len(test1_df)\n",
    "    summary['test1_uniques'] = test1_df.nunique().values\n",
    "    summary['test1_count'] = test1_df.count().values\n",
    "    # summary['test1_skew'] = test1_df.skew().values\n",
    "    summary['test2_missing#'] = test2_df.isna().sum()\n",
    "    summary['test2_missing%'] = (test2_df.isna().sum())/len(test2_df)\n",
    "    summary['test2_uniques'] = test2_df.nunique().values\n",
    "    summary['test2_count'] = test2_df.count().values\n",
    "    # summary['test2_skew'] = test2_df.skew().values\n",
    "    return summary\n",
    "summary_df(train_df,test1_df,test2_df).style.background_gradient(cmap='Blues')\n",
    "clear_output()"
   ]
  },
  {
   "cell_type": "code",
   "execution_count": 148,
   "metadata": {},
   "outputs": [],
   "source": [
    "cat_cols = ['性别','脑出血前mRS评分','高血压病史','卒中病史','糖尿病史','房颤史','冠心病史','吸烟史','饮酒史']\n",
    "num_cols = ['年龄', '发病到首次影像检查时间间隔', '血压', 'HM_volume', 'HM_ACA_R_Ratio', 'HM_MCA_R_Ratio',\n",
    "       'HM_PCA_R_Ratio', 'HM_Pons_Medulla_R_Ratio', 'HM_Cerebellum_R_Ratio',\n",
    "       'HM_ACA_L_Ratio', 'HM_MCA_L_Ratio', 'HM_PCA_L_Ratio',\n",
    "       'HM_Pons_Medulla_L_Ratio', 'HM_Cerebellum_L_Ratio', 'ED_volume',\n",
    "       'ED_ACA_R_Ratio', 'ED_MCA_R_Ratio', 'ED_PCA_R_Ratio',\n",
    "       'ED_Pons_Medulla_R_Ratio', 'ED_Cerebellum_R_Ratio', 'ED_ACA_L_Ratio',\n",
    "       'ED_MCA_L_Ratio', 'ED_PCA_L_Ratio', 'ED_Pons_Medulla_L_Ratio',\n",
    "       'ED_Cerebellum_L_Ratio', 'original_shape_Elongation_ED',\n",
    "       'original_shape_Flatness_ED', 'original_shape_LeastAxisLength_ED',\n",
    "       'original_shape_MajorAxisLength_ED',\n",
    "       'original_shape_Maximum2DDiameterColumn_ED',\n",
    "       'original_shape_Maximum2DDiameterRow_ED',\n",
    "       'original_shape_Maximum2DDiameterSlice_ED',\n",
    "       'original_shape_Maximum3DDiameter_ED', 'original_shape_MeshVolume_ED',\n",
    "       'original_shape_MinorAxisLength_ED', 'original_shape_Sphericity_ED',\n",
    "       'original_shape_SurfaceArea_ED', 'original_shape_SurfaceVolumeRatio_ED',\n",
    "       'original_shape_VoxelVolume_ED',\n",
    "       'NCCT_original_firstorder_10Percentile_ED',\n",
    "       'NCCT_original_firstorder_90Percentile_ED',\n",
    "       'NCCT_original_firstorder_Energy_ED',\n",
    "       'NCCT_original_firstorder_Entropy_ED',\n",
    "       'NCCT_original_firstorder_InterquartileRange_ED',\n",
    "       'NCCT_original_firstorder_Kurtosis_ED',\n",
    "       'NCCT_original_firstorder_Maximum_ED',\n",
    "       'NCCT_original_firstorder_MeanAbsoluteDeviation_ED',\n",
    "       'NCCT_original_firstorder_Mean_ED',\n",
    "       'NCCT_original_firstorder_Median_ED',\n",
    "       'NCCT_original_firstorder_Minimum_ED',\n",
    "       'NCCT_original_firstorder_Range_ED',\n",
    "       'NCCT_original_firstorder_RobustMeanAbsoluteDeviation_ED',\n",
    "       'NCCT_original_firstorder_RootMeanSquared_ED',\n",
    "       'NCCT_original_firstorder_Skewness_ED',\n",
    "       'NCCT_original_firstorder_Uniformity_ED',\n",
    "       'NCCT_original_firstorder_Variance_ED',\n",
    "       'original_shape_Elongation_Hemo', 'original_shape_Flatness_Hemo',\n",
    "       'original_shape_LeastAxisLength_Hemo',\n",
    "       'original_shape_MajorAxisLength_Hemo',\n",
    "       'original_shape_Maximum2DDiameterColumn_Hemo',\n",
    "       'original_shape_Maximum2DDiameterRow_Hemo',\n",
    "       'original_shape_Maximum2DDiameterSlice_Hemo',\n",
    "       'original_shape_Maximum3DDiameter_Hemo',\n",
    "       'original_shape_MeshVolume_Hemo', 'original_shape_MinorAxisLength_Hemo',\n",
    "       'original_shape_Sphericity_Hemo', 'original_shape_SurfaceArea_Hemo',\n",
    "       'original_shape_SurfaceVolumeRatio_Hemo',\n",
    "       'original_shape_VoxelVolume_Hemo',\n",
    "       'NCCT_original_firstorder_10Percentile_Hemo',\n",
    "       'NCCT_original_firstorder_90Percentile_Hemo',\n",
    "       'NCCT_original_firstorder_Energy_Hemo',\n",
    "       'NCCT_original_firstorder_Entropy_Hemo',\n",
    "       'NCCT_original_firstorder_InterquartileRange_Hemo',\n",
    "       'NCCT_original_firstorder_Kurtosis_Hemo',\n",
    "       'NCCT_original_firstorder_Maximum_Hemo',\n",
    "       'NCCT_original_firstorder_MeanAbsoluteDeviation_Hemo',\n",
    "       'NCCT_original_firstorder_Mean_Hemo',\n",
    "       'NCCT_original_firstorder_Median_Hemo',\n",
    "       'NCCT_original_firstorder_Minimum_Hemo',\n",
    "       'NCCT_original_firstorder_Range_Hemo',\n",
    "       'NCCT_original_firstorder_RobustMeanAbsoluteDeviation_Hemo',\n",
    "       'NCCT_original_firstorder_RootMeanSquared_Hemo',\n",
    "       'NCCT_original_firstorder_Skewness_Hemo',\n",
    "       'NCCT_original_firstorder_Uniformity_Hemo',\n",
    "       'NCCT_original_firstorder_Variance_Hemo']\n",
    "method_cols =  ['脑室引流', '止血治疗', '降颅压治疗', '降压治疗', '镇静、镇痛治疗',\n",
    "       '止吐护胃', '营养神经']"
   ]
  },
  {
   "cell_type": "code",
   "execution_count": null,
   "metadata": {},
   "outputs": [],
   "source": [
    "# Pipeline([\n",
    "#     ('imputer', SimpleImputer(strategy=\"median\")),\n",
    "#     ('std_scaler', StandardScaler()),\n",
    "# ])"
   ]
  }
 ],
 "metadata": {
  "kernelspec": {
   "display_name": "Python 3 (ipykernel)",
   "language": "python",
   "name": "python3"
  },
  "language_info": {
   "codemirror_mode": {
    "name": "ipython",
    "version": 3
   },
   "file_extension": ".py",
   "mimetype": "text/x-python",
   "name": "python",
   "nbconvert_exporter": "python",
   "pygments_lexer": "ipython3",
   "version": "3.8.16"
  }
 },
 "nbformat": 4,
 "nbformat_minor": 1
}
